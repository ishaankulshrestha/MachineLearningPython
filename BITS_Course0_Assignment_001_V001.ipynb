{
  "nbformat": 4,
  "nbformat_minor": 0,
  "metadata": {
    "colab": {
      "provenance": [],
      "authorship_tag": "ABX9TyM31Mf7fhAuwhwEtgIKeJmN",
      "include_colab_link": true
    },
    "kernelspec": {
      "name": "python3",
      "display_name": "Python 3"
    },
    "language_info": {
      "name": "python"
    }
  },
  "cells": [
    {
      "cell_type": "markdown",
      "metadata": {
        "id": "view-in-github",
        "colab_type": "text"
      },
      "source": [
        "<a href=\"https://colab.research.google.com/github/ishaankulshrestha/MachineLearningPython/blob/main/BITS_Course0_Assignment_001_V001.ipynb\" target=\"_parent\"><img src=\"https://colab.research.google.com/assets/colab-badge.svg\" alt=\"Open In Colab\"/></a>"
      ]
    },
    {
      "cell_type": "markdown",
      "source": [
        "# **Question #1**\n",
        "\n",
        "Given a number, find the sum of its digits. Take the number as\n",
        "an input from the user.\n",
        "\n"
      ],
      "metadata": {
        "id": "qSy4RFyu2TS1"
      }
    },
    {
      "cell_type": "code",
      "source": [
        "# Recieving the input from the user. Please note that while getting the input the type will be string only.\n",
        "num = input(\"Please enter any number. Number with many digits is preferred.\")\n",
        "\n",
        "#Now iterating through digits of number and taking its sum. Keeping the sum in a new variable \"sum\"\n",
        "sums = 0 \n",
        "for digit in num:\n",
        "  sums += int(digit)\n",
        "\n",
        "# Important to note that loop above only works on strings, list , dicts etc .. but never on number type .. but its executing as num is string\n",
        "# now printing the result as sums\n",
        "\n",
        "print(\"Sum of the digits you entered is {}\".format(sums))\n"
      ],
      "metadata": {
        "colab": {
          "base_uri": "https://localhost:8080/"
        },
        "id": "h1KORuVM2aQX",
        "outputId": "1f086085-b0ff-440b-f89b-4544efe519ad"
      },
      "execution_count": null,
      "outputs": [
        {
          "output_type": "stream",
          "name": "stdout",
          "text": [
            "Please enter any number. Number with many digits is preferred.123456789\n",
            "Sum of the digits you entered is 45\n"
          ]
        }
      ]
    },
    {
      "cell_type": "markdown",
      "source": [
        "# **Question 2.**\n",
        "\n",
        "Given a number, check whether the given number is an\n",
        "Armstrong number or not. A positive integer is called an\n",
        "Armstrong number of order n if:\n",
        "abcd... = a\\*\\*n + b\\*\\*n + c\\*\\*n + d\\*\\*n + ... \n",
        "\n",
        "Example: 153 = 1*1*1 + 5*5*5 + 3*3*3\n",
        "153 is an Armstrong number of order 3.\n",
        "\n",
        "Inputs from the user will be number and order n."
      ],
      "metadata": {
        "id": "6ou82aTM36cH"
      }
    },
    {
      "cell_type": "code",
      "source": [
        "# Get the input from the user \n",
        "num = input(\"Enter the number to be checked --> \")\n",
        "order = input(\"Enter the order for which same need to be checked --> \")\n",
        "\n",
        "# looping through the given number. Note that type of both of above numbers is string\n",
        "\n",
        "sums = 0 \n",
        "\n",
        "for digit in num:\n",
        "  sums += int(digit)**int(order)\n",
        "\n",
        "if sums == int(num):\n",
        "  print(\"{} is an armstrong number of order {}\".format(int(num),int(order)))\n",
        "else:\n",
        "  print(\"{} is not an armstrong number of order {}\".format(int(num),int(order)))"
      ],
      "metadata": {
        "colab": {
          "base_uri": "https://localhost:8080/"
        },
        "id": "74gGb0BC4Cdk",
        "outputId": "d9498b9d-d096-449a-e8ca-a21ee49d64f9"
      },
      "execution_count": null,
      "outputs": [
        {
          "output_type": "stream",
          "name": "stdout",
          "text": [
            "Enter the number to be checked --> 153\n",
            "Enter the order for which same need to be checked --> 3\n",
            "153 is an armstrong number of order 3\n"
          ]
        }
      ]
    },
    {
      "cell_type": "markdown",
      "source": [
        "# **Question #3**\n",
        "\n",
        "Given a string, write a python function to check if it is\n",
        "palindrome or not. A string is said to be palindrome if the reverse\n",
        "of the string is the same as string. For example, “malayalam” is a\n",
        "palindrome, but “music” is not a palindrome."
      ],
      "metadata": {
        "id": "31u3zZ7n6j-c"
      }
    },
    {
      "cell_type": "code",
      "source": [
        "# Accept the input from user\n",
        "\n",
        "curr_str = input(\"Enter any string which needed to be checked for palindrome. --> \")\n",
        "\n",
        "# Finding the length of input string\n",
        "\n",
        "lens = len(curr_str)\n",
        "\n",
        "# Crafting the logic : We will be comparing first element to the last, second elemnt to second last\n",
        "# We will repeat the above exercise till half of the length.\n",
        "# Note in case of length being even numbered we need to do till exact half. Incase of odd numbered length, we need to ignore the mid element.\n",
        "# Absorb the concept mentioned above and think through.\n",
        "\n",
        "# Initializing flag for providing the final answer if string was palindrome or not.\n",
        "palin = True\n",
        "\n",
        "for i in range(lens//2):\n",
        "  if curr_str[i] != curr_str[lens-1-i]:\n",
        "    palin = False\n",
        "    break\n",
        "\n",
        "# In loop above we if palin is set to False it means string was not palindrome. Else if palin is still true sting is palindrom\n",
        "\n",
        "if palin:\n",
        "  print(\"Yay!! {} is a palindrome string\".format(curr_str))\n",
        "else:\n",
        "  print(\"Sorry !! {} is not a palindrom string\".format(curr_str))\n",
        "\n",
        "# Please test above for even and odd length and think why we need to ignore middle character in case of odd length and how the code is doing so?\n",
        "# How .. Do a dry run yourself :D \n",
        "\n"
      ],
      "metadata": {
        "colab": {
          "base_uri": "https://localhost:8080/"
        },
        "id": "OX50AGvH60Fk",
        "outputId": "a4b08c9c-caf6-461b-fb42-98b32f56b6e4"
      },
      "execution_count": null,
      "outputs": [
        {
          "output_type": "stream",
          "name": "stdout",
          "text": [
            "Enter any string which needed to be checked for palindrome. --> abcdedcba\n",
            "Yay!! abcdedcba is a palindrome string\n"
          ]
        }
      ]
    },
    {
      "cell_type": "markdown",
      "source": [
        "# **Question 4**\n",
        "\n",
        "Given an array which may contain duplicates, print all elements\n",
        "and their frequencies."
      ],
      "metadata": {
        "id": "WVBLn3ua-6-D"
      }
    },
    {
      "cell_type": "code",
      "source": [
        "# Let list ( different from arrays, they can have multiple data types) as below. Feel free to change and experiment\n",
        "\n",
        "list1 = [1,2,3,3,3,3,2,2,1,1,1,1,2,2,3,3,3,1,1,1,100, 'BITS','BITS','bits',\"ML\",\"MLOPS\",None,None,1,1,1,1,\" \",\" \"]\n",
        "\n",
        "# Now intializing a dict ( kind of map for Java guys) as below :\n",
        "\n",
        "freq = dict()\n",
        "\n",
        "# Iterating all elements of list and then updating the count in dict. \n",
        "\n",
        "for item in list1:\n",
        "\n",
        "  # First we need to check if key already exist. If yes add 1 to same and if not then set value as 1 \n",
        "  # We can do both of above in a single step which is very commonly used in python\n",
        "  # Following wont give error in case if key do not exists in dict but it will give default value as 0\n",
        "  freq[item] = freq.get(item,0) + 1\n",
        "\n",
        "for key,value  in freq.items():\n",
        "  print(\"frequecny of {} is {}\".format(key,value))\n",
        "\n",
        "# Check answer and note that BITS != bits .. what happened to None and \" \" .. :D \n",
        "\n",
        "\n"
      ],
      "metadata": {
        "colab": {
          "base_uri": "https://localhost:8080/"
        },
        "id": "J9TeCUbY_bPt",
        "outputId": "3201536f-575c-44fc-bb2d-9953f0c82513"
      },
      "execution_count": null,
      "outputs": [
        {
          "output_type": "stream",
          "name": "stdout",
          "text": [
            "frequecny of 1 is 12\n",
            "frequecny of 2 is 5\n",
            "frequecny of 3 is 7\n",
            "frequecny of 100 is 1\n",
            "frequecny of BITS is 2\n",
            "frequecny of bits is 1\n",
            "frequecny of ML is 1\n",
            "frequecny of MLOPS is 1\n",
            "frequecny of None is 2\n",
            "frequecny of   is 2\n"
          ]
        }
      ]
    },
    {
      "cell_type": "markdown",
      "source": [
        "# **Question 5**\n",
        "\n",
        "Given a number n, write a function to print all prime factors of\n",
        "n. For example, if the input number is 12, then output should be\n",
        "“2 2 3”"
      ],
      "metadata": {
        "id": "GpsT8a0FB86Q"
      }
    },
    {
      "cell_type": "code",
      "source": [
        "# Accepting the number from user. note that we are converting same to int in the same line.\n",
        "\n",
        "num = int(input(\"Enter the number greater than 1 of which prime factor are needed to be evaluated. --> \"))\n",
        "\n",
        "num_copy = num\n",
        "\n",
        "# setting up and empty list to collect the factors\n",
        "ans = []\n",
        "\n",
        "# Solving it using two loop. Outer loop will continue to loop till num becomes 1\n",
        "# Second loop : Looping through 2 to number itself and collecting the first number with which same is divisible. Note it will always be prime.\n",
        "while num > 1:\n",
        "    temp = num\n",
        "    for i in range(2, temp + 1):\n",
        "        if num % i == 0:\n",
        "            ans.append(i)\n",
        "            num = num // i\n",
        "            break\n",
        "\n",
        "# Now since we have answer in ans. providing this output to user.\n",
        "# note that \"join\" is being used to format the output in a better and readable format.\n",
        "\n",
        "ans = [str(i) for i in ans]\n",
        "\n",
        "print(\"Prime factors of {} are {}\".format(num_copy, \", \".join(ans)))\n"
      ],
      "metadata": {
        "colab": {
          "base_uri": "https://localhost:8080/"
        },
        "id": "nc3WzkVgCQrL",
        "outputId": "57144e83-bba1-49eb-efda-5fb8a8f3e9a1"
      },
      "execution_count": 4,
      "outputs": [
        {
          "output_type": "stream",
          "name": "stdout",
          "text": [
            "Enter the number greater than 1 of which prime factor are needed to be evaluated. --> 2677114440\n",
            "Prime factors of 2677114440 are 2, 2, 2, 3, 3, 5, 7, 11, 13, 17, 19, 23\n"
          ]
        }
      ]
    },
    {
      "cell_type": "markdown",
      "source": [
        "# **Question 6**\n",
        "\n",
        "Given two numbers n and r, find the value of nCr (binomial\n",
        "coefficient: nCr = (n!) / (r! * (n-r)!))"
      ],
      "metadata": {
        "id": "Xz0qENau69HZ"
      }
    },
    {
      "cell_type": "code",
      "source": [
        "# First writing a function to evaluate factorial using recursion\n",
        "\n",
        "def getfact(n):\n",
        "\n",
        "  if n == 1 or n == 2 :\n",
        "    return n \n",
        "\n",
        "  return n*getfact(n-1)\n",
        "\n",
        "# Note that performance of above program can be improved using memonisation, however not attempting same to avoid complexity.\n",
        "\n",
        "# Accepting input from user \n",
        "\n",
        "inputs = input(\"To know nCr, please enter the value of n and r with a comma between --> \")\n",
        "n = int(inputs.split(\",\")[0])\n",
        "r = int(inputs.split(\",\")[1])\n",
        "\n",
        "# Now since we have a function to evaluate factorial, we just need to put the function in formula.\n",
        "# Also need to check for valid input.\n",
        "\n",
        "if n < r or r < 1:\n",
        "  print(\"Please enter the valid input next time\")\n",
        "else:\n",
        "  print(\"Value of {}C{} is {}\".format(n,r,int(getfact(n)/(getfact(r)*getfact(n-r)))))\n",
        "\n",
        "\n",
        "  "
      ],
      "metadata": {
        "colab": {
          "base_uri": "https://localhost:8080/"
        },
        "id": "9FZHeGP07Gb8",
        "outputId": "7f3e7ba4-a917-4315-c9fa-b716fee4410a"
      },
      "execution_count": 7,
      "outputs": [
        {
          "output_type": "stream",
          "name": "stdout",
          "text": [
            "To know nCr, please enter the value of n and r with a comma between --> 5,3\n",
            "Value of 5C3 is 10\n"
          ]
        }
      ]
    },
    {
      "cell_type": "markdown",
      "source": [
        "# **Question 7**\n",
        "\n",
        "Searching: \n",
        "\n",
        "Given a sorted array arr[] of n elements, write a\n",
        "function to search a given element x in arr[]. \n",
        "\n",
        "Do it using linear and binary search techniques."
      ],
      "metadata": {
        "id": "jN5QbPCZ-kPF"
      }
    },
    {
      "cell_type": "code",
      "source": [
        "import numpy as np \n",
        "\n",
        "# defining function for linear search\n",
        "\n",
        "def findlin(list_x,nums):\n",
        "  for i in range(len(list_x)):\n",
        "    if nums == list_x[i]:\n",
        "      return i+1\n",
        "\n",
        "# defining function for linear search\n",
        "\n",
        "def findbin(list_x,nums,start,end):\n",
        "\n",
        "  if start > end:\n",
        "    return -1\n",
        "\n",
        "  mid = (start + end)//2\n",
        "  if list_x[mid] == nums:\n",
        "    return mid+1\n",
        "  if nums > list_x[mid]:\n",
        "    start = mid+1\n",
        "  if nums < list_x[mid]:\n",
        "    end = mid-1\n",
        "  return findbin(list_x,nums,start,end)\n",
        "\n",
        "\n",
        "list_a = list(np.random.randint(1,100,20))\n",
        "print(\"List of randomly generated number is {}\".format(list_a))\n",
        "# picking up first element in unsorted list so as to search same later in sorted.\n",
        "num = list_a[0]\n",
        "list_a.sort()\n",
        "print(\"After sorting list looks like as {}\".format(list_a))\n",
        "print(\"We will be looking for position of {}\".format(num))\n",
        "\n",
        "lin_pos = findlin(list_a,num)\n",
        "bin_pos = findbin(list_a,num,0,len(list_a)-1)\n",
        "\n",
        "print(\"position of {} using linear search is {}\".format(num,lin_pos))\n",
        "print(\"position of {} using binary search is {}\".format(num,bin_pos))\n",
        "\n",
        "# This cell will give a different output every time.\n",
        "# Incase of duplicates it will tell position of any one element\n",
        "# time complexity of binary search is O(log(n)) while linear is O(n)\n",
        "\n",
        "\n"
      ],
      "metadata": {
        "colab": {
          "base_uri": "https://localhost:8080/"
        },
        "id": "_btQUe6n_EVI",
        "outputId": "41beb92e-0de9-4e24-8609-60af06a58f2c"
      },
      "execution_count": 21,
      "outputs": [
        {
          "output_type": "stream",
          "name": "stdout",
          "text": [
            "List of randomly generated number is [80, 19, 89, 5, 13, 94, 22, 32, 50, 23, 59, 21, 8, 34, 88, 62, 79, 58, 72, 75]\n",
            "After sorting list looks like as [5, 8, 13, 19, 21, 22, 23, 32, 34, 50, 58, 59, 62, 72, 75, 79, 80, 88, 89, 94]\n",
            "We will be looking for position of 80\n",
            "position of 80 using linear search is 17\n",
            "position of 80 using binary search is 17\n"
          ]
        }
      ]
    },
    {
      "cell_type": "markdown",
      "source": [
        "# **Question 8**\n",
        "\n",
        "\n",
        "Input a text file (containing 1 or more paragraphs of English\n",
        "text) from the user, parse this file to display the frequency of\n",
        "occurrence of each word in this text file. Find the 3 most frequent\n",
        "words as well."
      ],
      "metadata": {
        "id": "a6bGB9TREbTl"
      }
    },
    {
      "cell_type": "code",
      "source": [
        "input_file = open(\"random_text_file.txt\",\"r\")\n",
        "# Please note that you many need to upload a file with name above to test this.\n",
        "# Its working now but will be removed after some time as per process.\n",
        "\n",
        "\n",
        "# defining dict ( map for java guys) to store the result and rev freq to find top occuring\n",
        "\n",
        "freq = dict()\n",
        "rev_freq = dict()\n",
        "\n",
        "for line in input_file:\n",
        "  # print(line)\n",
        "  for word in line.split(\" \"):\n",
        "    freq[word] = freq.get(word,0) + 1 \n",
        "\n",
        "input_file.close()\n",
        "\n",
        "\n",
        "for key,value in freq.items():\n",
        "  curr = rev_freq.get(value,[])\n",
        "  curr.append(key)\n",
        "  rev_freq[value] = curr\n",
        "\n",
        "# Sorting the keys in reverse order to get the top 3 frequent elements\n",
        "\n",
        "keys = sorted(rev_freq.keys(),reverse = True)\n",
        "\n",
        "top_three = []\n",
        "\n",
        "for key in keys:\n",
        "  if len(top_three) >= 3:\n",
        "    break\n",
        "  for ele in rev_freq[key]:\n",
        "    top_three.append(ele)\n",
        "    if len(top_three) >= 3:\n",
        "      break\n",
        "\n",
        "print('top three frequent words are \"{}\",\"{}\" and \"{}\" with respective frequency of {},{} and {}'.format(top_three[0],top_three[1],top_three[2],freq[top_three[0]],freq[top_three[1]],freq[top_three[2]]))\n",
        "\n",
        "print(\"frequency of rest of the words is {}\".format(freq))\n",
        "    \n",
        "\n",
        "\n",
        "\n"
      ],
      "metadata": {
        "colab": {
          "base_uri": "https://localhost:8080/"
        },
        "id": "aI4F4_ggEo2I",
        "outputId": "07bd1385-e65a-4c5e-a7e6-c292ee3aadb7"
      },
      "execution_count": 32,
      "outputs": [
        {
          "output_type": "stream",
          "name": "stdout",
          "text": [
            "top three frequent words are \"to\",\"the\" and \"he\" with respective frequency of 19,18 and 14\n",
            "frequency of rest of the words is {'It': 6, 'was': 13, 'that': 7, 'terrifying': 1, 'feeling': 1, 'you': 4, 'have': 3, 'as': 1, 'tightly': 1, 'hold': 1, 'the': 18, 'covers': 1, 'over': 2, 'with': 2, 'knowledge': 1, 'there': 1, 'is': 2, 'something': 1, 'hiding': 1, 'under': 1, 'your': 1, 'bed.': 1, 'You': 1, 'want': 1, 'to': 19, 'look,': 1, 'but': 5, \"don't\": 1, 'at': 2, 'same': 2, 'time.': 1, \"You're\": 1, 'frozen': 1, 'fear': 1, 'and': 13, 'unable': 1, 'act.': 1, \"That's\": 1, 'where': 1, 'she': 3, 'found': 1, 'herself': 1, \"didn't\": 2, 'know': 1, 'what': 1, 'do': 3, 'next\\n': 1, 'Was': 1, 'it': 8, 'a': 9, 'whisper': 1, 'or': 2, 'wind?': 1, 'He': 7, \"wasn't\": 2, 'quite': 1, 'sure.': 1, 'thought': 2, 'he': 14, 'heard': 3, 'voice': 3, 'this': 4, 'moment': 1, 'all': 3, 'could': 4, 'hear': 2, 'wind': 2, 'rustling': 2, 'leaves': 2, 'of': 8, 'trees': 1, 'around': 1, 'him.': 1, 'stopped': 1, 'listened': 1, 'more': 3, 'intently': 1, 'see': 2, 'if': 1, 'again.': 1, 'Nothing': 1, 'be': 2, 'heard.': 1, 'about': 1, 'continue': 1, 'his': 6, 'walk': 1, 'when': 1, 'felt': 1, 'hand': 1, 'on': 2, 'shoulder,': 1, 'quickly': 1, 'turned': 1, 'who': 1, 'was.': 1, 'There': 1, 'nobody': 1, 'there,': 1, 'again.\\n': 1, 'song': 1, 'coming': 2, 'from': 2, 'distance,': 1, 'lightly': 1, 'floating': 1, 'air': 1, 'ears.': 1, 'Although': 1, 'soft': 2, 'calming,': 1, 'wary.': 1, 'seemed': 1, 'little': 2, 'too': 2, 'calming': 1, 'for': 5, 'everything': 1, 'going': 1, 'on.': 1, 'wanted': 2, 'nothing': 1, 'than': 1, 'beautiful': 1, 'music': 1, 'innocent': 1, 'pure': 1, 'joy': 1, 'singing,': 1, 'in': 3, 'back': 2, 'mind,': 1, 'knew': 1, 'likely': 1, 'some': 1, 'type': 1, 'trap.\\n': 1, 'hated': 1, 'her.': 1, 'simply': 1, 'like': 1, 'her': 3, 'much.': 1, 'difficult': 2, 'him': 4, 'explain': 2, 'her,': 1, 'even': 1, 'truly': 1, 'understand.': 1, 'She': 1, 'love': 1, 'feel': 1, 'way.': 1, \"didn't,\": 1, 'no': 1, 'matter': 1, 'how': 1, 'tried': 1, 'refused': 1, 'listen': 1, 'understand.\\n': 1, 'Brock': 3, 'would': 2, 'never': 3, 'dared': 2, 'own': 1, 'himself.': 1, 'That': 1, 'why': 1, 'Kenneth': 2, 'had': 3, 'become': 1, 'such': 1, 'good': 2, 'friends.': 1, 'forced': 1, 'out': 1, 'comfort': 1, 'zone': 1, 'made': 1, 'try': 1, 'new': 2, 'things': 1, \"he'd\": 1, 'imagine': 1, 'doing': 1, 'otherwise.': 1, 'Up': 1, 'point,': 1, 'been': 1, 'thing.': 1, 'expanded': 1, \"Brock's\": 1, 'experiences': 1, 'given': 1, 'appreciation': 1, 'life.': 1, 'Now': 1, 'both': 1, 'them': 1, 'were': 1, 'police': 1, 'car,': 1, 'think': 1, 'except': 1, 'influence': 1, 'Kenneth.': 1}\n"
          ]
        }
      ]
    }
  ]
}